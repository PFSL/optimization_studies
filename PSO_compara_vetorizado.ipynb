{
 "cells": [
  {
   "cell_type": "code",
   "execution_count": 1,
   "metadata": {
    "ExecuteTime": {
     "end_time": "2020-05-11T22:00:32.416312Z",
     "start_time": "2020-05-11T22:00:31.722213Z"
    }
   },
   "outputs": [
    {
     "name": "stdout",
     "output_type": "stream",
     "text": [
      "check random:  69\n",
      "check numpy random:  37\n"
     ]
    }
   ],
   "source": [
    "import numpy as np\n",
    "import random\n",
    "import time\n",
    "\n",
    "import matplotlib.pyplot as plt\n",
    "\n",
    "from matplotlib import animation, rc\n",
    "from IPython.display import HTML\n",
    "from matplotlib import cm\n",
    "\n",
    "import ipywidgets as widgets\n",
    "from ipywidgets import interact, interact_manual\n",
    "\n",
    "%matplotlib inline\n",
    "\n",
    "random.seed(30)\n",
    "np.random.seed(seed=30)\n",
    "\n",
    "print('check random: ', random.randint(0,100))\n",
    "print('check numpy random: ', np.random.randint(0,100))\n"
   ]
  },
  {
   "cell_type": "code",
   "execution_count": 2,
   "metadata": {
    "ExecuteTime": {
     "end_time": "2020-05-11T22:00:32.425261Z",
     "start_time": "2020-05-11T22:00:32.417283Z"
    }
   },
   "outputs": [
    {
     "data": {
      "text/plain": [
       "array([ 2500,  5000,  7500, 10000])"
      ]
     },
     "execution_count": 2,
     "metadata": {},
     "output_type": "execute_result"
    }
   ],
   "source": [
    "#Some variables to calculate the velocity\n",
    "W = 0.5\n",
    "c1 = 0.015\n",
    "c2 = 0.5\n",
    "\n",
    "# variables tha control optimizer\n",
    "iterations = 50\n",
    "target_error = 1e-7\n",
    "\n",
    "# create population\n",
    "n_dim = 2\n",
    "# n_particles = 50\n",
    "max_part = 10000\n",
    "part_jump = 2500\n",
    "\n",
    "range_particles = np.arange(0, max_part+1, part_jump)\n",
    "range_particles = np.delete(range_particles, 0)\n",
    "# range_particles = np.insert(range_particles, 0, 10)\n",
    "range_particles\n"
   ]
  },
  {
   "cell_type": "code",
   "execution_count": 3,
   "metadata": {
    "ExecuteTime": {
     "end_time": "2020-05-11T22:00:32.437230Z",
     "start_time": "2020-05-11T22:00:32.426257Z"
    }
   },
   "outputs": [],
   "source": [
    "#function that models the problem\n",
    "target = 1\n",
    "def fitness_function(position):\n",
    "    return position[0]**2 + position[1]**2 + 1\n",
    "\n",
    "\n",
    "# #function that models the problem\n",
    "# target = 0\n",
    "# def fitness_function(position):\n",
    "#     A = 10\n",
    "#     f = 0\n",
    "#     for j in range(2):\n",
    "#         f = f + position[j]**2 - A*np.cos(2*np.pi*position[j])\n",
    "#     return A*2 + f"
   ]
  },
  {
   "cell_type": "code",
   "execution_count": 4,
   "metadata": {
    "ExecuteTime": {
     "end_time": "2020-05-11T22:00:32.565376Z",
     "start_time": "2020-05-11T22:00:32.438225Z"
    }
   },
   "outputs": [
    {
     "data": {
      "image/png": "[encoded data removed]",
      "text/plain": [
       "<Figure size 432x432 with 1 Axes>"
      ]
     },
     "metadata": {
      "needs_background": "light"
     },
     "output_type": "display_data"
    },
    {
     "name": "stdout",
     "output_type": "stream",
     "text": [
      "fitness: 1\n"
     ]
    }
   ],
   "source": [
    "delta = .05\n",
    "x = np.arange(-5.0, 5.0, delta)\n",
    "y = np.arange(-5.0, 5.0, delta)\n",
    "X, Y = np.meshgrid(x, y)\n",
    "Z1 = fitness_function([X,Y])\n",
    "\n",
    "fig, ax = plt.subplots(figsize=(6,6))\n",
    "cmap = cm.get_cmap(name='terrain', lut=None)\n",
    "# cmap = cm.get_cmap(name='viridis', lut=None)\n",
    "\n",
    "CS = ax.contourf(X, Y, Z1, 19, cmap=cmap)\n",
    "\n",
    "plt.plot(0,0, 'rx', markersize=8)\n",
    "\n",
    "plt.show()\n",
    "\n",
    "print('fitness:',fitness_function([0,0]))"
   ]
  },
  {
   "cell_type": "code",
   "execution_count": 5,
   "metadata": {
    "ExecuteTime": {
     "end_time": "2020-05-11T22:00:32.576349Z",
     "start_time": "2020-05-11T22:00:32.566342Z"
    }
   },
   "outputs": [],
   "source": [
    "def pso(particle_position_vector, W, c1, c2, target, n_iterations, target_error, n_particles, n_dim):\n",
    "    \n",
    "#     random.seed(30)\n",
    "#     np.random.seed(seed=30)\n",
    "    \n",
    "#     # create initial particles\n",
    "#     t1 = time.time()\n",
    "#     particle_position_vector = np.array([np.array([(-1) ** (bool(random.getrandbits(1))) * random.random()*5, (-1)**(bool(random.getrandbits(1))) * random.random()*5]) for _ in range(n_particles)])\n",
    "#     particle_position_vector\n",
    "#     pbest_position = particle_position_vector\n",
    "#     pbest_fitness_value = np.array([float('inf') for _ in range(n_particles)])\n",
    "#     gbest_fitness_value = float('inf')\n",
    "#     gbest_position = np.array([float('inf'), float('inf')])\n",
    "    \n",
    "#     velocity_vector = ([np.array([0, 0]) for _ in range(n_particles)])\n",
    "    pbest_position = particle_position_vector\n",
    "    pbest_fitness_value = np.array([float('inf') for _ in range(n_particles)])\n",
    "    gbest_fitness_value = float('inf')\n",
    "    gbest_position = np.array([float('inf'), float('inf')])\n",
    "\n",
    "    velocity_vector = ([np.array([0, 0]) for _ in range(n_particles)])\n",
    "    \n",
    "#     t2 = time.time()\n",
    "    \n",
    "    list_gbest_pos = []\n",
    "    list_gbest_val = []\n",
    "    list_fit_cand = []\n",
    "    \n",
    "    \n",
    "        \n",
    "    iteration = 0\n",
    "\n",
    "    position_history = dict([(key, []) for key in range(n_particles)])\n",
    "    fitness_history = dict([(key, []) for key in range(n_particles)])\n",
    "\n",
    "    t3 = time.time()\n",
    "    \n",
    "    while iteration < n_iterations:\n",
    "        for i in range(n_particles):\n",
    "            fitness_cadidate = fitness_function(particle_position_vector[i])\n",
    "            \n",
    "            fitness_history[i].append(fitness_cadidate)\n",
    "            \n",
    "            \n",
    "            list_fit_cand.append(fitness_cadidate)\n",
    "\n",
    "            if(pbest_fitness_value[i] > fitness_cadidate):\n",
    "                pbest_fitness_value[i] = fitness_cadidate\n",
    "                pbest_position[i] = particle_position_vector[i]\n",
    "\n",
    "            if(gbest_fitness_value > fitness_cadidate):\n",
    "                gbest_fitness_value = fitness_cadidate\n",
    "                gbest_position = particle_position_vector[i]\n",
    "\n",
    "                best_particle = i\n",
    "\n",
    "        list_gbest_pos.append(gbest_position)\n",
    "        list_gbest_val.append(gbest_fitness_value)\n",
    "\n",
    "#         if(abs(gbest_fitness_value - target) < target_error):\n",
    "#             break\n",
    "\n",
    "        for i in range(n_particles):\n",
    "\n",
    "            new_velocity = (W*velocity_vector[i]) + (c1*random.random()) * (pbest_position[i] - particle_position_vector[i]) + (c2*random.random()) * (gbest_position-particle_position_vector[i])\n",
    "            new_position = new_velocity + particle_position_vector[i]\n",
    "            particle_position_vector[i] = new_position\n",
    "\n",
    "            position_history[i].append(new_position)\n",
    "\n",
    "\n",
    "        iteration = iteration + 1\n",
    "\n",
    "    t4 = time.time()\n",
    "    \n",
    "    print(\"The best position is \", gbest_position, \"in iteration number \", iteration, \" with particle \", best_particle)\n",
    "    \n",
    "    \n",
    "    sol_error = abs(gbest_fitness_value - target)\n",
    "    \n",
    "    init_time = t2 - t1\n",
    "    opt_time  = t4 - t3\n",
    "    \n",
    "    max_iteration = iteration\n",
    "    \n",
    "    run_metrics = [n_iterations, n_particles, sol_error, max_iteration, init_time, opt_time]\n",
    "    \n",
    "    \n",
    "    return position_history, fitness_history, run_metrics\n"
   ]
  },
  {
   "cell_type": "code",
   "execution_count": 6,
   "metadata": {
    "ExecuteTime": {
     "end_time": "2020-05-11T22:00:41.798116Z",
     "start_time": "2020-05-11T22:00:32.577313Z"
    }
   },
   "outputs": [
    {
     "name": "stdout",
     "output_type": "stream",
     "text": [
      "The best position is  [3.41849603e-09 9.33880256e-09] in iteration number  50  with particle  804\n",
      "The best position is  [-9.74370652e-09  2.60084503e-09] in iteration number  50  with particle  2902\n",
      "The best position is  [ 7.36142489e-09 -4.58387391e-09] in iteration number  50  with particle  1427\n",
      "The best position is  [-4.99169769e-09 -8.86354847e-09] in iteration number  50  with particle  4189\n"
     ]
    }
   ],
   "source": [
    "comparative_metrics_def = []\n",
    "comparative_convergence_def = []\n",
    "\n",
    "for n_part in range_particles:\n",
    "    \n",
    "    random.seed(30)\n",
    "    np.random.seed(seed=30)\n",
    "\n",
    "    # create initial particles\n",
    "    t1 = time.time()\n",
    "    particle_position_vector = np.array([np.array([(-1) ** (bool(random.getrandbits(1))) * random.random()*5, (-1)**(bool(random.getrandbits(1))) * random.random()*5]) for _ in range(n_part)])\n",
    "    particle_position_vector\n",
    "\n",
    "    t2 = time.time()\n",
    "\n",
    "    list_gbest_pos = []\n",
    "    list_gbest_val = []\n",
    "    list_fit_cand = []\n",
    "\n",
    "\n",
    "    position_history, fitness_history, run_metrics = pso(particle_position_vector, \n",
    "                                                         W, c1, c2, target, iterations, target_error, n_part, n_dim)\n",
    "    \n",
    "    comparative_metrics_def.append(run_metrics)\n",
    "    "
   ]
  },
  {
   "cell_type": "code",
   "execution_count": 7,
   "metadata": {
    "ExecuteTime": {
     "end_time": "2020-05-11T22:01:25.548187Z",
     "start_time": "2020-05-11T22:00:41.799113Z"
    }
   },
   "outputs": [
    {
     "data": {
      "image/png": "[encoded data removed]",
      "text/plain": [
       "<Figure size 1152x432 with 1 Axes>"
      ]
     },
     "metadata": {
      "needs_background": "light"
     },
     "output_type": "display_data"
    }
   ],
   "source": [
    "fig, ax = plt.subplots(figsize=(16,6))\n",
    "\n",
    "for data_dict in fitness_history.values():\n",
    "\n",
    "        a = np.array(data_dict)\n",
    "\n",
    "        x1 = a[:]\n",
    "\n",
    "        dots1, = ax.plot(x1, 'r-o', lw=0.5, markersize=0.5)\n",
    "\n",
    "        \n",
    "ax.plot(max(list(fitness_history.values())), 'k-o', lw=1.5, markersize=0.5)\n",
    "ax.plot(min(list(fitness_history.values())), 'k-o', lw=1.5, markersize=0.5)\n",
    "\n",
    "plt.show()\n"
   ]
  },
  {
   "cell_type": "code",
   "execution_count": null,
   "metadata": {},
   "outputs": [],
   "source": []
  },
  {
   "cell_type": "code",
   "execution_count": 8,
   "metadata": {
    "ExecuteTime": {
     "end_time": "2020-05-11T22:01:25.552171Z",
     "start_time": "2020-05-11T22:01:25.549151Z"
    }
   },
   "outputs": [],
   "source": [
    "\n",
    "#function that models the problem\n",
    "target = 1\n",
    "# @vectorize(['float32(float32, float32)'], target='parallel')\n",
    "# @vectorize(['float32(float32, float32)'], target='cuda')\n",
    "# @jit\n",
    "def fitness_function_vec(a,b):\n",
    "    return a**2 + b**2 + 1\n",
    "\n"
   ]
  },
  {
   "cell_type": "code",
   "execution_count": 9,
   "metadata": {
    "ExecuteTime": {
     "end_time": "2020-05-11T22:01:25.570340Z",
     "start_time": "2020-05-11T22:01:25.553140Z"
    }
   },
   "outputs": [],
   "source": [
    "\n",
    "def pso_vec(particle_position_vectora, particle_position_vectorb, \n",
    "            particle_velocity_vectora, particle_velocity_vectorb,\n",
    "            pbest_fitness_value1, gbest_fitness_value1,\n",
    "            W, c1, c2, target, n_iterations, target_error, n_particles, n_dim):\n",
    "    \n",
    "        \n",
    "    iteration = 0\n",
    "\n",
    "#     position_history = dict([(key, []) for key in range(n_particles)])\n",
    "#     fitness_history = dict([(key, []) for key in range(n_particles)])\n",
    "\n",
    "    t3 = time.time()\n",
    "    \n",
    "    run_convergence = []\n",
    "    \n",
    "    \n",
    "    # start optimization procedure\n",
    "    while iteration < n_iterations:\n",
    "        \n",
    "        \n",
    "        fitness_cadidate1 = fitness_function_vec(np.ascontiguousarray(particle_position_vectora, dtype=np.float32), np.ascontiguousarray(particle_position_vectorb, dtype=np.float32))\n",
    "#         fitness_cadidate1 = fitness_function_vec(particle_position_vectora, particle_position_vectorb)\n",
    "#         print('fitness_cadidate1', fitness_cadidate1)\n",
    "\n",
    "        adjusted_fitness_ind = fitness_cadidate1 < pbest_fitness_value1\n",
    "#         print(adjusted_fitness_ind)\n",
    "        original_value_ind = fitness_cadidate1 >= pbest_fitness_value1\n",
    "#         print(original_value_ind)\n",
    "        pbest_fitness_value1 = original_value_ind*pbest_fitness_value1 + adjusted_fitness_ind*fitness_cadidate1\n",
    "#         print('new pbest', pbest_fitness_value1)\n",
    "        \n",
    "        # adjust only the improved positions\n",
    "        particle_pbest_pos_vectora = original_value_ind*particle_position_vectora + adjusted_fitness_ind*particle_position_vectora\n",
    "        particle_pbest_pos_vectorb = original_value_ind*particle_position_vectorb + adjusted_fitness_ind*particle_position_vectorb\n",
    "#         print('\\n\\nparticle_position_vectora\\n', particle_pbest_pos_vectora)\n",
    "#         print('\\nparticle_position_vectorb\\n', particle_pbest_pos_vectorb)\n",
    "        \n",
    "        # check if has new global best\n",
    "        gadjusted_fitness_ind = fitness_cadidate1 <= gbest_fitness_value1\n",
    "#         print('gadjusted_fitness_ind', gadjusted_fitness_ind)\n",
    "        majorar_gadjusted_fitness_ind = fitness_cadidate1 > gbest_fitness_value1\n",
    "#         print('gadjusted_fitness_ind', gadjusted_fitness_ind)\n",
    "        \n",
    "        # if has take value and position\n",
    "        if gadjusted_fitness_ind.any() == True:\n",
    "            \n",
    "            # adjust values bigger than old solution to a really big number (in order to discard on minimization)\n",
    "            minimum_candidates = majorar_gadjusted_fitness_ind*fitness_cadidate1*1e12 + gadjusted_fitness_ind*fitness_cadidate1\n",
    "#             print('minimum_candidates', minimum_candidates)\n",
    "            minimum_from_candidates = np.min(minimum_candidates)\n",
    "#             print('minimum_from_candidates', minimum_from_candidates)\n",
    "            \n",
    "            # set the new minimum\n",
    "            gbest_fitness_value1 = minimum_from_candidates\n",
    "            \n",
    "            # take the index of best solution to find the position (ASSUMED TO USE THE FIRST VALUE)\n",
    "            gbest_fitness_value_ind = np.where(fitness_cadidate1 == minimum_from_candidates)[0][0]\n",
    "#             print('111 gbest_fitness_value1_ind', gbest_fitness_value_ind)\n",
    "    \n",
    "            # set the new best position\n",
    "            particle_gbest_pos_vectora = particle_pbest_pos_vectora[gbest_fitness_value_ind]\n",
    "            particle_gbest_pos_vectorb = particle_pbest_pos_vectorb[gbest_fitness_value_ind]\n",
    "        \n",
    "        \n",
    "        if(abs(gbest_fitness_value1 - target) < target_error):\n",
    "            break\n",
    "\n",
    "        # update position and velocity\n",
    "        new_particle_velocity_vectora = (W*particle_velocity_vectora) + (c1*random.random()) * (particle_pbest_pos_vectora - particle_position_vectora) + (c2*random.random()) * (particle_gbest_pos_vectora - particle_position_vectora)\n",
    "        new_particle_velocity_vectorb = (W*particle_velocity_vectorb) + (c1*random.random()) * (particle_pbest_pos_vectorb - particle_position_vectorb) + (c2*random.random()) * (particle_gbest_pos_vectorb - particle_position_vectorb)\n",
    "\n",
    "#         new_particle_position_vectora = particle_position_vectora + new_particle_velocity_vectora\n",
    "#         new_particle_position_vectorb = particle_position_vectorb + new_particle_velocity_vectorb\n",
    "#         particle_position_vectora = new_particle_position_vectora\n",
    "#         particle_position_vectorb = new_particle_position_vectorb\n",
    "\n",
    "        particle_position_vectora += new_particle_velocity_vectora\n",
    "        particle_position_vectorb += new_particle_velocity_vectora\n",
    "\n",
    "        run_convergence.append([iteration, gbest_fitness_value1])\n",
    "    \n",
    "        # move to next iteration\n",
    "        iteration = iteration + 1\n",
    "\n",
    "    t4 = time.time()\n",
    "      \n",
    "    \n",
    "    sol_error = abs(gbest_fitness_value1 - target)\n",
    "    \n",
    "    opt_time  = t4 - t3\n",
    "    \n",
    "    print(\"\\nThe best position is \", particle_gbest_pos_vectora, particle_gbest_pos_vectorb, \"in iteration number \", iteration, \" with value \", gbest_fitness_value1, \" and error \", sol_error)\n",
    "    \n",
    "    max_iteration = iteration\n",
    "    \n",
    "    run_metrics = [n_iterations, n_particles, sol_error, max_iteration, opt_time]\n",
    "    \n",
    "    \n",
    "#     return position_history, fitness_history, run_metrics\n",
    "    return particle_position_vectora, particle_position_vectorb, run_metrics, run_convergence\n"
   ]
  },
  {
   "cell_type": "code",
   "execution_count": 10,
   "metadata": {
    "ExecuteTime": {
     "end_time": "2020-05-11T22:01:25.701959Z",
     "start_time": "2020-05-11T22:01:25.572309Z"
    }
   },
   "outputs": [
    {
     "name": "stdout",
     "output_type": "stream",
     "text": [
      "\n",
      "The best position is  0.0016961772 0.0029819706 in iteration number  50  with value  1.0000118  and error  1.1801719665527344e-05\n",
      "\n",
      "The best position is  0.00043205507 0.0017178466 in iteration number  50  with value  1.0000031  and error  3.0994415283203125e-06\n",
      "\n",
      "The best position is  0.00021218897 0.0014979804 in iteration number  50  with value  1.0000023  and error  2.2649765014648438e-06\n",
      "\n",
      "The best position is  -0.00076242036 -0.00023646896 in iteration number  50  with value  1.0000006  and error  5.960464477539062e-07\n"
     ]
    }
   ],
   "source": [
    "\n",
    "comparative_metrics_vec = []\n",
    "comparative_convergence_vec = []\n",
    "\n",
    "for n_part in range_particles:\n",
    "    \n",
    "    \n",
    "    random.seed(30)\n",
    "    np.random.seed(seed=30)\n",
    "\n",
    "    # create initial particles\n",
    "    t1 = time.time()\n",
    "    particle_position_vector = np.array([np.array([(-1) ** (bool(random.getrandbits(1))) * random.random()*5, (-1)**(bool(random.getrandbits(1))) * random.random()*5]) for _ in range(n_part)], dtype=np.float32)\n",
    "    #     particle_position_vector\n",
    "    pbest_position = particle_position_vector\n",
    "    #     pbest_fitness_value = np.array([float('inf') for _ in range(n_particles)], dtype=np.float32)\n",
    "    #     pbest_fitness_value = np.array([999999. for _ in range(n_particles)], dtype=np.float32)\n",
    "    pbest_fitness_value1 = np.array([999999. for _ in range(n_part)], dtype=np.float32)\n",
    "    #     gbest_fitness_value = float('inf')\n",
    "    # gbest_fitness_value = 999999.\n",
    "    gbest_fitness_value1 = 999999.\n",
    "    #     gbest_position = np.array([float('inf'), float('inf')])\n",
    "    gbest_position = np.array([999999., 999999.])\n",
    "\n",
    "    velocity_vector = np.array([np.array([0., 0.], dtype=np.float32) for _ in range(n_part)], dtype=np.float32)\n",
    "    t2 = time.time()\n",
    "\n",
    "    # list_gbest_pos = []\n",
    "#     list_gbest_val = []\n",
    "    \n",
    "    # list_fit_cand = []\n",
    "\n",
    "    particle_position_vectora = particle_position_vector[:,0]\n",
    "    particle_position_vectorb = particle_position_vector[:,1]\n",
    "\n",
    "\n",
    "    particle_velocity_vectora = velocity_vector[:,0]\n",
    "    particle_velocity_vectorb = velocity_vector[:,1]\n",
    "    \n",
    "\n",
    "    (position_a_def,\n",
    "     position_b_def,\n",
    "     run_metrics_def,\n",
    "     convergence_def) = pso_vec(particle_position_vectora, particle_position_vectorb, \n",
    "                                    particle_velocity_vectora, particle_velocity_vectorb,\n",
    "                                    pbest_fitness_value1, gbest_fitness_value1, \n",
    "                                    W, c1, c2, target, iterations, target_error, n_part, n_dim)\n",
    "    \n",
    "    comparative_metrics_vec.append(run_metrics_def)\n",
    "    comparative_convergence_def.append(convergence_def)\n"
   ]
  },
  {
   "cell_type": "code",
   "execution_count": 11,
   "metadata": {
    "ExecuteTime": {
     "end_time": "2020-05-11T22:01:25.707943Z",
     "start_time": "2020-05-11T22:01:25.702957Z"
    }
   },
   "outputs": [
    {
     "data": {
      "text/plain": [
       "([[50, 2500, 0.0, 50, 0.004987239837646484, 0.8871126174926758],\n",
       "  [50, 5000, 0.0, 50, 0.009973526000976562, 1.781738519668579],\n",
       "  [50, 7500, 0.0, 50, 0.013962745666503906, 2.693953514099121],\n",
       "  [50, 10000, 0.0, 50, 0.018949508666992188, 3.574244499206543]],\n",
       " [[50, 2500, 1.1801719665527344e-05, 50, 0.005983591079711914],\n",
       "  [50, 5000, 3.0994415283203125e-06, 50, 0.00698089599609375],\n",
       "  [50, 7500, 2.2649765014648438e-06, 50, 0.008977174758911133],\n",
       "  [50, 10000, 5.960464477539062e-07, 50, 0.011967897415161133]])"
      ]
     },
     "execution_count": 11,
     "metadata": {},
     "output_type": "execute_result"
    }
   ],
   "source": [
    "comparative_metrics_def, comparative_metrics_vec"
   ]
  },
  {
   "cell_type": "code",
   "execution_count": 12,
   "metadata": {
    "ExecuteTime": {
     "end_time": "2020-05-11T22:01:26.066491Z",
     "start_time": "2020-05-11T22:01:25.708941Z"
    }
   },
   "outputs": [
    {
     "data": {
      "text/plain": [
       "[]"
      ]
     },
     "execution_count": 12,
     "metadata": {},
     "output_type": "execute_result"
    },
    {
     "data": {
      "image/png": "[encoded data removed]",
      "text/plain": [
       "<Figure size 1152x432 with 1 Axes>"
      ]
     },
     "metadata": {
      "needs_background": "light"
     },
     "output_type": "display_data"
    }
   ],
   "source": [
    "fig, ax = plt.subplots(figsize=(16,6))\n",
    "\n",
    "ax.plot(np.array(comparative_metrics_vec)[:,1], np.array(comparative_metrics_vec)[:,4], 'b-o')\n",
    "ax.plot(np.array(comparative_metrics_def)[:,1], np.array(comparative_metrics_def)[:,5], 'r-o')\n",
    "\n",
    "scale = 'linear'\n",
    "scale = 'log'\n",
    "\n",
    "# ax.set_xscale(scale)\n",
    "ax.set_yscale(scale)\n",
    "plt.grid(True)\n",
    "plt.plot()"
   ]
  },
  {
   "cell_type": "code",
   "execution_count": 13,
   "metadata": {
    "ExecuteTime": {
     "end_time": "2020-05-11T22:01:26.071478Z",
     "start_time": "2020-05-11T22:01:26.067488Z"
    }
   },
   "outputs": [
    {
     "data": {
      "text/plain": [
       "array([148.25756066, 255.23063525, 300.08923592, 298.65266849])"
      ]
     },
     "execution_count": 13,
     "metadata": {},
     "output_type": "execute_result"
    }
   ],
   "source": [
    "speedup = np.array(comparative_metrics_def)[:,5]/np.array(comparative_metrics_vec)[:,4]\n",
    "speedup"
   ]
  },
  {
   "cell_type": "code",
   "execution_count": 14,
   "metadata": {
    "ExecuteTime": {
     "end_time": "2020-05-11T22:01:26.201636Z",
     "start_time": "2020-05-11T22:01:26.072475Z"
    }
   },
   "outputs": [
    {
     "data": {
      "text/plain": [
       "[]"
      ]
     },
     "execution_count": 14,
     "metadata": {},
     "output_type": "execute_result"
    },
    {
     "data": {
      "image/png": "[encoded data removed]",
      "text/plain": [
       "<Figure size 1152x432 with 1 Axes>"
      ]
     },
     "metadata": {
      "needs_background": "light"
     },
     "output_type": "display_data"
    }
   ],
   "source": [
    "fig, ax = plt.subplots(figsize=(16,6))\n",
    "\n",
    "ax.plot(np.array(comparative_metrics_vec)[:,1], np.array(speedup), 'b-o')\n",
    "\n",
    "scale = 'linear'\n",
    "scale = 'log'\n",
    "\n",
    "# ax.set_xscale(scale)\n",
    "# ax.set_yscale(scale)\n",
    "plt.grid(True)\n",
    "plt.plot()"
   ]
  },
  {
   "cell_type": "code",
   "execution_count": null,
   "metadata": {},
   "outputs": [],
   "source": []
  }
 ],
 "metadata": {
  "kernelspec": {
   "display_name": "Python 3",
   "language": "python",
   "name": "python3"
  },
  "language_info": {
   "codemirror_mode": {
    "name": "ipython",
    "version": 3
   },
   "file_extension": ".py",
   "mimetype": "text/x-python",
   "name": "python",
   "nbconvert_exporter": "python",
   "pygments_lexer": "ipython3",
   "version": "3.7.7"
  },
  "toc": {
   "base_numbering": 1,
   "nav_menu": {},
   "number_sections": true,
   "sideBar": true,
   "skip_h1_title": false,
   "title_cell": "Table of Contents",
   "title_sidebar": "Contents",
   "toc_cell": false,
   "toc_position": {},
   "toc_section_display": true,
   "toc_window_display": false
  }
 },
 "nbformat": 4,
 "nbformat_minor": 4
}
